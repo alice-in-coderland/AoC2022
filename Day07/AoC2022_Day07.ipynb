{
 "cells": [
  {
   "cell_type": "code",
   "execution_count": 1,
   "outputs": [],
   "source": [
    "with open('input.txt') as f:\n",
    "    terminal_output = [line.strip() for line in f.readlines()]"
   ],
   "metadata": {
    "collapsed": false
   }
  },
  {
   "cell_type": "code",
   "execution_count": 2,
   "outputs": [],
   "source": [
    "from collections import deque\n",
    "\n",
    "def get_dir_structure(term):\n",
    "    lines = deque(term)\n",
    "    current_path = ''\n",
    "    dir_dict = {current_path: []}\n",
    "    while lines:\n",
    "        line = lines.popleft().split()\n",
    "        comm = line[1]\n",
    "        arg = line[2:]\n",
    "        if comm == 'ls':\n",
    "            while lines and not lines[0].startswith('$'):\n",
    "                size, _name = lines.popleft().split()\n",
    "                if size == 'dir': continue\n",
    "                if current_path not in dir_dict.keys(): dir_dict[current_path] = []\n",
    "                dir_dict[current_path].append(int(size))\n",
    "        else:\n",
    "            if arg[0] == '..':\n",
    "                current_path = current_path[:current_path.rfind('*')]\n",
    "            else:\n",
    "                new_path = current_path + '*' + arg[0]\n",
    "                if current_path not in dir_dict.keys(): dir_dict[current_path] = []\n",
    "                dir_dict[current_path].append(new_path)\n",
    "                current_path = new_path\n",
    "    return dir_dict\n",
    "\n",
    "def calc_size(directory):\n",
    "\tsize = sum([elem for elem in dir_dict[directory] if isinstance(elem, int)])\n",
    "\tfor directory in [elem for elem in dir_dict[directory] if elem in dir_dict.keys()]:\n",
    "\t\tsize += calc_size(directory)\n",
    "\treturn size\n",
    "\n",
    "dir_dict = get_dir_structure(terminal_output)"
   ],
   "metadata": {
    "collapsed": false
   }
  },
  {
   "cell_type": "code",
   "execution_count": 3,
   "outputs": [
    {
     "name": "stdout",
     "output_type": "stream",
     "text": [
      "The sum of the total sizes of directories with a total size of at most 100000 is1743217.\n"
     ]
    }
   ],
   "source": [
    "# Part 1\n",
    "space_upper_limit = 100000\n",
    "\n",
    "totsize = 0\n",
    "for d in dir_dict.keys():\n",
    "    s = calc_size(d)\n",
    "    if s <= space_upper_limit: totsize += s\n",
    "\n",
    "print(f'The sum of the total sizes of directories with a total size of at most 100000 is{totsize}.')\n"
   ],
   "metadata": {
    "collapsed": false
   }
  },
  {
   "cell_type": "code",
   "execution_count": 4,
   "outputs": [
    {
     "name": "stdout",
     "output_type": "stream",
     "text": [
      "The smallest directory that, if deleted, would free up enough space on the filesystem to run the update is of size 8319096.\n"
     ]
    }
   ],
   "source": [
    "# Part 2\n",
    "total_disk_space = 70000000\n",
    "needed_space = 30000000\n",
    "need_to_free = needed_space - (total_disk_space - calc_size(''))\n",
    "\n",
    "candidates = []\n",
    "\n",
    "for d in dir_dict.keys():\n",
    "\ts = calc_size(d)\n",
    "\tif s >= need_to_free: candidates.append(s)\n",
    "\n",
    "print(f'The smallest directory that, if deleted, would free up enough space on the filesystem to run the update is of size {min(candidates)}.')\n"
   ],
   "metadata": {
    "collapsed": false
   }
  }
 ],
 "metadata": {
  "kernelspec": {
   "display_name": "Python 3",
   "language": "python",
   "name": "python3"
  },
  "language_info": {
   "codemirror_mode": {
    "name": "ipython",
    "version": 2
   },
   "file_extension": ".py",
   "mimetype": "text/x-python",
   "name": "python",
   "nbconvert_exporter": "python",
   "pygments_lexer": "ipython2",
   "version": "2.7.6"
  }
 },
 "nbformat": 4,
 "nbformat_minor": 0
}
