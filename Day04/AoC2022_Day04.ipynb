{
 "cells": [
  {
   "cell_type": "code",
   "execution_count": 1,
   "metadata": {
    "collapsed": true
   },
   "outputs": [],
   "source": [
    "with open('input.txt') as f:\n",
    "\tsections = [elem.strip().split(',') for elem in f.readlines()]"
   ]
  },
  {
   "cell_type": "code",
   "execution_count": 2,
   "outputs": [
    {
     "name": "stdout",
     "output_type": "stream",
     "text": [
      "Part1: 413 sections pairs have one completely containing another.\n"
     ]
    }
   ],
   "source": [
    "# Part 1\n",
    "\n",
    "overlap = 0\n",
    "for section in sections:\n",
    "    [start1, stop1] = [int(elem) for elem in section[0].split('-')]\n",
    "    [start2, stop2] = [int(elem) for elem in section[1].split('-')]\n",
    "    overlap += int((start1 >= start2 and stop1 <= stop2) or (start1 <= start2 and stop1 >= stop2))\n",
    "\n",
    "print(f'Part1: {overlap} sections pairs have one completely containing another.')"
   ],
   "metadata": {
    "collapsed": false
   }
  },
  {
   "cell_type": "code",
   "execution_count": 3,
   "outputs": [
    {
     "name": "stdout",
     "output_type": "stream",
     "text": [
      "Part2: 806 sections pairs overlap.\n"
     ]
    }
   ],
   "source": [
    "# Part 2\n",
    "\n",
    "overlap = 0\n",
    "for section in sections:\n",
    "    [start1, stop1] = [int(elem) for elem in section[0].split('-')]\n",
    "    [start2, stop2] = [int(elem) for elem in section[1].split('-')]\n",
    "    if len(range(max(start1, start2), min(stop1, stop2)+1)): overlap += 1\n",
    "\n",
    "print(f'Part2: {overlap} sections pairs overlap.')"
   ],
   "metadata": {
    "collapsed": false
   }
  },
  {
   "cell_type": "code",
   "execution_count": 3,
   "outputs": [],
   "source": [],
   "metadata": {
    "collapsed": false
   }
  }
 ],
 "metadata": {
  "kernelspec": {
   "display_name": "Python 3",
   "language": "python",
   "name": "python3"
  },
  "language_info": {
   "codemirror_mode": {
    "name": "ipython",
    "version": 2
   },
   "file_extension": ".py",
   "mimetype": "text/x-python",
   "name": "python",
   "nbconvert_exporter": "python",
   "pygments_lexer": "ipython2",
   "version": "2.7.6"
  }
 },
 "nbformat": 4,
 "nbformat_minor": 0
}
