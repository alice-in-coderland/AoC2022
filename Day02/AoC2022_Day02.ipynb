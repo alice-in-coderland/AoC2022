{
 "cells": [
  {
   "cell_type": "code",
   "execution_count": 1,
   "outputs": [],
   "source": [
    "with open('input.txt') as f:\n",
    "    games = [elem.strip() for elem in f.readlines()]"
   ],
   "metadata": {
    "collapsed": false
   }
  },
  {
   "cell_type": "code",
   "execution_count": 2,
   "outputs": [
    {
     "name": "stdout",
     "output_type": "stream",
     "text": [
      "Part 1: The total score is 9241\n"
     ]
    }
   ],
   "source": [
    "##PART 1\n",
    "\n",
    "RPS_score = {'X': 1,\n",
    "             'Y': 2,\n",
    "             'Z': 3}\n",
    "\n",
    "score = []\n",
    "for game in games:\n",
    "    elf, me = game.split(' ')\n",
    "    if elf == 'A':\n",
    "        match me:\n",
    "            case 'X': score.append(RPS_score[me]+3)\n",
    "            case 'Y': score.append(RPS_score[me]+6)\n",
    "            case 'Z': score.append(RPS_score[me]+0)\n",
    "    elif elf == 'B':\n",
    "        match me:\n",
    "            case 'X': score.append(RPS_score[me]+0)\n",
    "            case 'Y': score.append(RPS_score[me]+3)\n",
    "            case 'Z': score.append(RPS_score[me]+6)\n",
    "    elif elf == 'C':\n",
    "        match me:\n",
    "            case 'X': score.append(RPS_score[me]+6)\n",
    "            case 'Y': score.append(RPS_score[me]+0)\n",
    "            case 'Z': score.append(RPS_score[me]+3)\n",
    "\n",
    "print(f'Part 1: The total score is {sum(score)}')\n"
   ],
   "metadata": {
    "collapsed": false
   }
  },
  {
   "cell_type": "code",
   "execution_count": 3,
   "outputs": [
    {
     "name": "stdout",
     "output_type": "stream",
     "text": [
      "Part 2: The total score is 14610\n"
     ]
    }
   ],
   "source": [
    "##PART 2\n",
    "\n",
    "win = {'A': 'paper',\n",
    "       'B': 'scissors',\n",
    "       'C': 'rock'}\n",
    "\n",
    "draw = {'A': 'rock',\n",
    "        'B': 'paper',\n",
    "        'C': 'scissors'}\n",
    "\n",
    "lose = {'A': 'scissors',\n",
    "        'B': 'rock',\n",
    "        'C': 'paper'}\n",
    "\n",
    "win_score = {'X': 0,\n",
    "             'Y': 3,\n",
    "             'Z': 6}\n",
    "\n",
    "RPS_score = {'rock': 1,\n",
    "             'paper': 2,\n",
    "             'scissors': 3}\n",
    "\n",
    "score = []\n",
    "for game in games:\n",
    "    elf, me = game.split(' ')\n",
    "    match me:\n",
    "        case 'X': score.append(win_score[me]+RPS_score[lose[elf]])\n",
    "        case 'Y': score.append(win_score[me]+RPS_score[draw[elf]])\n",
    "        case 'Z': score.append(win_score[me]+RPS_score[win[elf]])\n",
    "\n",
    "\n",
    "print(f'Part 2: The total score is {sum(score)}')\n"
   ],
   "metadata": {
    "collapsed": false
   }
  },
  {
   "cell_type": "code",
   "execution_count": null,
   "outputs": [],
   "source": [],
   "metadata": {
    "collapsed": false
   }
  }
 ],
 "metadata": {
  "kernelspec": {
   "display_name": "Python 3",
   "language": "python",
   "name": "python3"
  },
  "language_info": {
   "codemirror_mode": {
    "name": "ipython",
    "version": 2
   },
   "file_extension": ".py",
   "mimetype": "text/x-python",
   "name": "python",
   "nbconvert_exporter": "python",
   "pygments_lexer": "ipython2",
   "version": "2.7.6"
  }
 },
 "nbformat": 4,
 "nbformat_minor": 0
}
