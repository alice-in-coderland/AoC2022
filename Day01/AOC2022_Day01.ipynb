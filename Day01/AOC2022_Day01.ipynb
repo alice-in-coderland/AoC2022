{
 "cells": [
  {
   "cell_type": "code",
   "execution_count": 1,
   "outputs": [
    {
     "name": "stdout",
     "output_type": "stream",
     "text": [
      "Calories carried by the elf with most calories: 67622\n",
      "Calories carried by the three elves with most calories: 201491\n"
     ]
    }
   ],
   "source": [
    "with open('input.txt') as f:\n",
    "\telf_list = [sum(list(map(int, elem.split()))) for elem in f.read().replace('\\n', ' ').split('  ')]\n",
    "\n",
    "ANS1 = max(elf_list)\n",
    "\n",
    "print(f'Calories carried by the elf with most calories: {ANS1}')\n",
    "\n",
    "top_elves = []\n",
    "\n",
    "for i in range(0, 3):\n",
    "\ttop_elves.append(elf_list.pop(elf_list.index(max(elf_list))))\n",
    "\n",
    "ANS2 = sum(top_elves)\n",
    "\n",
    "print(f'Calories carried by the three elves with most calories: {ANS2}')"
   ],
   "metadata": {
    "collapsed": false
   }
  },
  {
   "cell_type": "code",
   "execution_count": null,
   "outputs": [],
   "source": [],
   "metadata": {
    "collapsed": false
   }
  }
 ],
 "metadata": {
  "kernelspec": {
   "display_name": "Python 3",
   "language": "python",
   "name": "python3"
  },
  "language_info": {
   "codemirror_mode": {
    "name": "ipython",
    "version": 2
   },
   "file_extension": ".py",
   "mimetype": "text/x-python",
   "name": "python",
   "nbconvert_exporter": "python",
   "pygments_lexer": "ipython2",
   "version": "2.7.6"
  }
 },
 "nbformat": 4,
 "nbformat_minor": 0
}
