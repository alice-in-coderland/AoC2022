{
 "cells": [
  {
   "cell_type": "code",
   "execution_count": 1,
   "outputs": [],
   "source": [
    "with open('input.txt') as f:\n",
    "\tstarting_stacks = [elem.replace('\\n', '') for elem in f.readlines()]"
   ],
   "metadata": {
    "collapsed": false
   }
  },
  {
   "cell_type": "code",
   "execution_count": 2,
   "outputs": [],
   "source": [
    "crates_diagram = starting_stacks[:starting_stacks.index('')-1][::-1]\n",
    "rearrangement_procedure = starting_stacks[starting_stacks.index('')+1:]\n",
    "number_of_stacks = int(starting_stacks[starting_stacks.index('')-1].split()[-1])"
   ],
   "metadata": {
    "collapsed": false
   }
  },
  {
   "cell_type": "code",
   "execution_count": 3,
   "outputs": [
    {
     "name": "stdout",
     "output_type": "stream",
     "text": [
      "Part1: The top crates are HNSNMTLHQ.\n"
     ]
    }
   ],
   "source": [
    "# Part 1\n",
    "\n",
    "stacks = []\n",
    "\n",
    "for i in range(1, number_of_stacks*4, 4):\n",
    "\tstack = []\n",
    "\tfor crates_stack in crates_diagram:\n",
    "\t\ttry:\n",
    "\t\t\tif crates_stack[i] != ' ': stack.append(crates_stack[i])\n",
    "\t\texcept:\n",
    "\t\t\tpass\n",
    "\tstacks.append(stack)\n",
    "\n",
    "for line in rearrangement_procedure:\n",
    "\t[moves, from_stack, to_stack] = [int(num) for num in line.split() if num.isdigit()]\n",
    "\tfor i in range(moves):\n",
    "\t\tstacks[to_stack-1].append(stacks[from_stack-1].pop())\n",
    "\n",
    "topcrates = ''.join([stack[-1] for stack in stacks])\n",
    "\n",
    "print(f'Part1: The top crates are {topcrates}.')"
   ],
   "metadata": {
    "collapsed": false
   }
  },
  {
   "cell_type": "code",
   "execution_count": 4,
   "outputs": [
    {
     "name": "stdout",
     "output_type": "stream",
     "text": [
      "Part2: The top crates are RNLFDJMCT.\n"
     ]
    }
   ],
   "source": [
    "# Part 2\n",
    "\n",
    "stacks = []\n",
    "\n",
    "for i in range(1, number_of_stacks*4, 4):\n",
    "\tstack = []\n",
    "\tfor crates_stack in crates_diagram:\n",
    "\t\ttry:\n",
    "\t\t\tif crates_stack[i] != ' ': stack.append(crates_stack[i])\n",
    "\t\texcept:\n",
    "\t\t\tpass\n",
    "\tstacks.append(stack)\n",
    "\n",
    "for line in rearrangement_procedure:\n",
    "\t[moves, from_stack, to_stack] = [int(num) for num in line.split() if num.isdigit()]\n",
    "\tcrates_to_move = stacks[from_stack-1][-moves:]\n",
    "\tstacks[from_stack-1] = stacks[from_stack-1][:-moves]\n",
    "\tfor crate in crates_to_move:\n",
    "\t \tstacks[to_stack-1].append(crate)\n",
    "\n",
    "topcrates = ''.join([stack[-1] for stack in stacks])\n",
    "\n",
    "print(f'Part2: The top crates are {topcrates}.')"
   ],
   "metadata": {
    "collapsed": false
   }
  },
  {
   "cell_type": "code",
   "execution_count": 4,
   "outputs": [],
   "source": [],
   "metadata": {
    "collapsed": false
   }
  }
 ],
 "metadata": {
  "kernelspec": {
   "display_name": "Python 3",
   "language": "python",
   "name": "python3"
  },
  "language_info": {
   "codemirror_mode": {
    "name": "ipython",
    "version": 2
   },
   "file_extension": ".py",
   "mimetype": "text/x-python",
   "name": "python",
   "nbconvert_exporter": "python",
   "pygments_lexer": "ipython2",
   "version": "2.7.6"
  }
 },
 "nbformat": 4,
 "nbformat_minor": 0
}
