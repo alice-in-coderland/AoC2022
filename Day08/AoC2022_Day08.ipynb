{
 "cells": [
  {
   "cell_type": "code",
   "execution_count": 1,
   "outputs": [],
   "source": [
    "import numpy as np\n",
    "\n",
    "with open('input.txt') as f:\n",
    "    height_map=[elem.strip() for elem in f.readlines()]\n",
    "\n",
    "height_map = np.array([list(map(int, [*elem])) for elem in height_map])"
   ],
   "metadata": {
    "collapsed": false
   }
  },
  {
   "cell_type": "code",
   "execution_count": 2,
   "outputs": [
    {
     "name": "stdout",
     "output_type": "stream",
     "text": [
      "1829 trees are visible from outside the grid.\n"
     ]
    }
   ],
   "source": [
    "# Part 1\n",
    "\n",
    "def is_visible(x, y, arr):\n",
    "    l, w = list(arr.shape)\n",
    "    left = np.all(arr[x, 0:y] < arr[x, y])\n",
    "    right = np.all(arr[x,y+1:w] < arr[x, y])\n",
    "    up = np.all(arr[0:x, y] < arr[x, y])\n",
    "    down = np.all(arr[x+1:l, y] < arr[x, y])\n",
    "\n",
    "    if left | right | up | down: return 1\n",
    "    else: return 0\n",
    "\n",
    "lh, wh = list(height_map.shape)\n",
    "sum_visible = 2*(lh+wh)-4\n",
    "for i in range(1, lh-1):\n",
    "    for j in range(1, wh-1):\n",
    "        sum_visible+=is_visible(i,j,height_map)\n",
    "print(f'{sum_visible} trees are visible from outside the grid.')"
   ],
   "metadata": {
    "collapsed": false
   }
  },
  {
   "cell_type": "code",
   "execution_count": 3,
   "outputs": [
    {
     "name": "stdout",
     "output_type": "stream",
     "text": [
      "The highest scenic score possible for any tree is 291840.\n"
     ]
    }
   ],
   "source": [
    "# Part 2\n",
    "\n",
    "def count_scenic_score(x, y, arr):\n",
    "    l, w = list(arr.shape)\n",
    "    left = list(arr[x, 0:y] >= arr[x, y])\n",
    "    right = list(arr[x,y+1:w] >= arr[x, y])\n",
    "    up = list(arr[0:x, y] >= arr[x, y])\n",
    "    down = list(arr[x+1:l, y] >= arr[x, y])\n",
    "    dirs = [left[::-1], up[::-1], right, down]\n",
    "    score = 1\n",
    "    for d in dirs:\n",
    "        if True in d:\n",
    "            score *= d.index(True)+1\n",
    "        else:\n",
    "            score *= len(d)\n",
    "    return score\n",
    "\n",
    "lh, wh = list(height_map.shape)\n",
    "max_scenic_score = 0\n",
    "\n",
    "for i in range(1, lh-1):\n",
    "    for j in range(1, wh-1):\n",
    "        scenic_score = count_scenic_score(i, j, height_map)\n",
    "        if scenic_score > max_scenic_score:\n",
    "            max_scenic_score = scenic_score\n",
    "\n",
    "print(f'The highest scenic score possible for any tree is {max_scenic_score}.')\n"
   ],
   "metadata": {
    "collapsed": false
   }
  },
  {
   "cell_type": "code",
   "execution_count": 3,
   "outputs": [],
   "source": [],
   "metadata": {
    "collapsed": false
   }
  }
 ],
 "metadata": {
  "kernelspec": {
   "display_name": "Python 3",
   "language": "python",
   "name": "python3"
  },
  "language_info": {
   "codemirror_mode": {
    "name": "ipython",
    "version": 2
   },
   "file_extension": ".py",
   "mimetype": "text/x-python",
   "name": "python",
   "nbconvert_exporter": "python",
   "pygments_lexer": "ipython2",
   "version": "2.7.6"
  }
 },
 "nbformat": 4,
 "nbformat_minor": 0
}
