{
 "cells": [
  {
   "cell_type": "code",
   "execution_count": 1,
   "metadata": {
    "collapsed": true
   },
   "outputs": [],
   "source": [
    "with open('input.txt') as f:\n",
    "\trucksacks = [elem.strip() for elem in f.readlines()]"
   ]
  },
  {
   "cell_type": "code",
   "execution_count": 2,
   "outputs": [
    {
     "name": "stdout",
     "output_type": "stream",
     "text": [
      "Part1: The sum of the priorities of the shared item types is 8202\n"
     ]
    }
   ],
   "source": [
    "import string\n",
    "\n",
    "priorities = 0\n",
    "for rucksack in rucksacks:\n",
    "    middle = int(len(rucksack)/2)\n",
    "    comp1 = rucksack[:middle]\n",
    "    comp2 = rucksack[middle:]\n",
    "    shared = list(set([elem for elem in comp1 if elem in comp2]))[0]\n",
    "    priorities += string.ascii_letters.index(shared)+1\n",
    "\n",
    "print(f'Part1: The sum of the priorities of the shared item types is {priorities}')"
   ],
   "metadata": {
    "collapsed": false
   }
  },
  {
   "cell_type": "code",
   "execution_count": 3,
   "outputs": [
    {
     "name": "stdout",
     "output_type": "stream",
     "text": [
      "Part2: The sum of the priorities of the badges is 2864\n"
     ]
    }
   ],
   "source": [
    "import string\n",
    "\n",
    "i = 0\n",
    "priorities = 0\n",
    "while i < len(rucksacks):\n",
    "    shared_firsttwo = list(set([item for item in rucksacks[i] if item in rucksacks[i+1]]))\n",
    "    shared_lasttwo = list(set([item for item in rucksacks[i+1] if item in rucksacks[i+2]]))\n",
    "    badge = list(set([item for item in shared_firsttwo if item in shared_lasttwo]))[0]\n",
    "    priorities += string.ascii_letters.index(badge)+1\n",
    "    i+=3\n",
    "\n",
    "print(f'Part2: The sum of the priorities of the badges is {priorities}')\n"
   ],
   "metadata": {
    "collapsed": false
   }
  },
  {
   "cell_type": "code",
   "execution_count": null,
   "outputs": [],
   "source": [],
   "metadata": {
    "collapsed": false
   }
  }
 ],
 "metadata": {
  "kernelspec": {
   "display_name": "Python 3",
   "language": "python",
   "name": "python3"
  },
  "language_info": {
   "codemirror_mode": {
    "name": "ipython",
    "version": 2
   },
   "file_extension": ".py",
   "mimetype": "text/x-python",
   "name": "python",
   "nbconvert_exporter": "python",
   "pygments_lexer": "ipython2",
   "version": "2.7.6"
  }
 },
 "nbformat": 4,
 "nbformat_minor": 0
}
