{
 "cells": [
  {
   "cell_type": "code",
   "execution_count": 1,
   "outputs": [],
   "source": [
    "with open('input.txt') as f:\n",
    "    motions = [elem.split() for elem in f.readlines()]\n",
    "    for motion in motions:\n",
    "        motion[1] = int(motion[1])"
   ],
   "metadata": {
    "collapsed": false
   }
  },
  {
   "cell_type": "code",
   "execution_count": 2,
   "outputs": [
    {
     "name": "stdout",
     "output_type": "stream",
     "text": [
      "The tail of the rope visits 6522 positions at least once.\n"
     ]
    }
   ],
   "source": [
    "class rope:\n",
    "    def __init__(self):\n",
    "        self.xH, self.yH = 0, 0\n",
    "        self.xT, self.yT = 0, 0\n",
    "\n",
    "    def move(self, direction):\n",
    "        self.move_head(direction)\n",
    "        return self.move_tail()\n",
    "\n",
    "    def move_head(self, direction):\n",
    "        self.xp, self.yp = self.xH, self.yH\n",
    "        match direction:\n",
    "            case 'L': self.xH -= 1\n",
    "            case 'U': self.yH += 1\n",
    "            case 'R': self.xH += 1\n",
    "            case 'D': self.yH -= 1\n",
    "        self.head = (self.xH, self.yH)\n",
    "\n",
    "    def move_tail(self):\n",
    "        if abs(self.xH - self.xT) > 1 or abs(self.yH - self.yT) > 1:\n",
    "            if self.xH == self.xT: self.yT += int(abs(self.yH - self.yT)/(self.yH - self.yT))\n",
    "            elif self.yH == self.yT: self.xT += int(abs(self.xH - self.xT)/(self.xH - self.xT))\n",
    "            else:\n",
    "                self.yT += int(abs(self.yH - self.yT)/(self.yH - self.yT))\n",
    "                self.xT += int(abs(self.xH - self.xT)/(self.xH - self.xT))\n",
    "        return self.xT, self.yT\n",
    "\n",
    "\n",
    "myrope = rope()\n",
    "tailpos = []\n",
    "for motion in motions:\n",
    "    # print(motion)\n",
    "    for i in range(motion[1]):\n",
    "        tail = myrope.move(motion[0])\n",
    "        if tail not in tailpos: tailpos.append(tail)\n",
    "\n",
    "print(f'The tail of the rope visits {len(tailpos)} positions at least once.')"
   ],
   "metadata": {
    "collapsed": false
   }
  },
  {
   "cell_type": "code",
   "execution_count": 3,
   "outputs": [
    {
     "name": "stdout",
     "output_type": "stream",
     "text": [
      "The tail of the long rope visits 2717 positions at least once.\n"
     ]
    }
   ],
   "source": [
    "rope_length = 9\n",
    "long_rope = []\n",
    "for i in range(rope_length):\n",
    "    long_rope.append(rope())\n",
    "\n",
    "tailpos = []\n",
    "\n",
    "for motion in motions:\n",
    "    for i in range(motion[1]):\n",
    "        long_rope[0].move(motion[0])\n",
    "        for j in range(1, rope_length):\n",
    "            long_rope[j].xH, long_rope[j].yH = long_rope[j-1].xT, long_rope[j-1].yT\n",
    "            x, y = long_rope[j].xT, long_rope[j].yT = long_rope[j].move_tail()\n",
    "        if (x, y) not in tailpos: tailpos.append((x, y))\n",
    "\n",
    "print(f'The tail of the long rope visits {len(tailpos)} positions at least once.')"
   ],
   "metadata": {
    "collapsed": false
   }
  },
  {
   "cell_type": "code",
   "execution_count": null,
   "outputs": [],
   "source": [],
   "metadata": {
    "collapsed": false
   }
  }
 ],
 "metadata": {
  "kernelspec": {
   "display_name": "Python 3",
   "language": "python",
   "name": "python3"
  },
  "language_info": {
   "codemirror_mode": {
    "name": "ipython",
    "version": 2
   },
   "file_extension": ".py",
   "mimetype": "text/x-python",
   "name": "python",
   "nbconvert_exporter": "python",
   "pygments_lexer": "ipython2",
   "version": "2.7.6"
  }
 },
 "nbformat": 4,
 "nbformat_minor": 0
}
