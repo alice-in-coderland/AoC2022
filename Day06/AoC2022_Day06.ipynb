{
 "cells": [
  {
   "cell_type": "code",
   "execution_count": 1,
   "outputs": [],
   "source": [
    "with open('input.txt') as f:\n",
    "\tdatastream = f.read().strip()"
   ],
   "metadata": {
    "collapsed": false
   }
  },
  {
   "cell_type": "code",
   "execution_count": 2,
   "outputs": [
    {
     "name": "stdout",
     "output_type": "stream",
     "text": [
      "The start-of-packet marker is at the position 1042.\n",
      "The start-of-message marker is at the position 2980.\n"
     ]
    }
   ],
   "source": [
    "def find_marker(ds, buffer_length):\n",
    "    for i in range(buffer_length,len(ds)):\n",
    "        if len(set(list(ds[i-buffer_length:i]))) == buffer_length: return i\n",
    "\n",
    "#Part 1\n",
    "print(f'The start-of-packet marker is at the position {find_marker(datastream, 4)}.')\n",
    "\n",
    "#Part 2\n",
    "print(f'The start-of-message marker is at the position {find_marker(datastream, 14)}.')"
   ],
   "metadata": {
    "collapsed": false
   }
  },
  {
   "cell_type": "code",
   "execution_count": 2,
   "outputs": [],
   "source": [],
   "metadata": {
    "collapsed": false
   }
  }
 ],
 "metadata": {
  "kernelspec": {
   "display_name": "Python 3",
   "language": "python",
   "name": "python3"
  },
  "language_info": {
   "codemirror_mode": {
    "name": "ipython",
    "version": 2
   },
   "file_extension": ".py",
   "mimetype": "text/x-python",
   "name": "python",
   "nbconvert_exporter": "python",
   "pygments_lexer": "ipython2",
   "version": "2.7.6"
  }
 },
 "nbformat": 4,
 "nbformat_minor": 0
}
